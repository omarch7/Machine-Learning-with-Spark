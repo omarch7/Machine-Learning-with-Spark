{
 "cells": [
  {
   "cell_type": "code",
   "execution_count": 1,
   "metadata": {
    "collapsed": false
   },
   "outputs": [
    {
     "name": "stdout",
     "output_type": "stream",
     "text": [
      "196\t242\t3\t881250949\n"
     ]
    }
   ],
   "source": [
    "val rawData = sc.textFile(\"ml-100k/u.data\")\n",
    "println(rawData.first())"
   ]
  },
  {
   "cell_type": "code",
   "execution_count": 2,
   "metadata": {
    "collapsed": false,
    "scrolled": true
   },
   "outputs": [
    {
     "name": "stdout",
     "output_type": "stream",
     "text": [
      "[Ljava.lang.String;@1356aa10\n"
     ]
    }
   ],
   "source": [
    "val rawRatings = rawData.map(_.split(\"\\t\").take(3))\n",
    "println(rawRatings.first())"
   ]
  },
  {
   "cell_type": "code",
   "execution_count": 3,
   "metadata": {
    "collapsed": true
   },
   "outputs": [],
   "source": [
    "import org.apache.spark.mllib.recommendation.ALS\n",
    "import org.apache.spark.mllib.recommendation.Rating\n",
    "\n",
    "val ratings = rawRatings.map{ case Array(user, movie, rating) => Rating(user.toInt, movie.toInt, rating.toDouble)}"
   ]
  },
  {
   "cell_type": "code",
   "execution_count": 4,
   "metadata": {
    "collapsed": false,
    "scrolled": true
   },
   "outputs": [
    {
     "name": "stdout",
     "output_type": "stream",
     "text": [
      "Rating(196,242,3.0)\n"
     ]
    }
   ],
   "source": [
    "println(ratings.first())"
   ]
  },
  {
   "cell_type": "code",
   "execution_count": 5,
   "metadata": {
    "collapsed": false
   },
   "outputs": [
    {
     "name": "stdout",
     "output_type": "stream",
     "text": [
      "users MapPartitionsRDD[210] at mapValues at ALS.scala:255\n"
     ]
    }
   ],
   "source": [
    "val model = ALS.train(ratings, 50, 10, 0.01)\n",
    "println(model.userFeatures)"
   ]
  },
  {
   "cell_type": "code",
   "execution_count": 6,
   "metadata": {
    "collapsed": false
   },
   "outputs": [
    {
     "name": "stdout",
     "output_type": "stream",
     "text": [
      "943\n"
     ]
    }
   ],
   "source": [
    "println(model.userFeatures.count)"
   ]
  },
  {
   "cell_type": "code",
   "execution_count": 7,
   "metadata": {
    "collapsed": false
   },
   "outputs": [
    {
     "name": "stdout",
     "output_type": "stream",
     "text": [
      "1682\n"
     ]
    }
   ],
   "source": [
    "println(model.productFeatures.count)"
   ]
  },
  {
   "cell_type": "code",
   "execution_count": 8,
   "metadata": {
    "collapsed": false
   },
   "outputs": [
    {
     "name": "stdout",
     "output_type": "stream",
     "text": [
      "2.727786107746448\n"
     ]
    }
   ],
   "source": [
    "val predictedRating = model.predict(789, 123)\n",
    "println(predictedRating)"
   ]
  },
  {
   "cell_type": "code",
   "execution_count": 9,
   "metadata": {
    "collapsed": false,
    "scrolled": true
   },
   "outputs": [
    {
     "name": "stdout",
     "output_type": "stream",
     "text": [
      "Rating(789,87,5.532445795990224)\n",
      "Rating(789,56,5.3841005086294444)\n",
      "Rating(789,715,5.135608782660923)\n",
      "Rating(789,246,5.052365822874689)\n",
      "Rating(789,127,5.021809954747658)\n",
      "Rating(789,518,4.991299670310026)\n",
      "Rating(789,13,4.981358707538808)\n",
      "Rating(789,475,4.975747453008007)\n",
      "Rating(789,100,4.963449395933944)\n",
      "Rating(789,428,4.963430699869444)\n"
     ]
    }
   ],
   "source": [
    "val userId = 789\n",
    "val K = 10\n",
    "val topKRecs = model.recommendProducts(userId, K)\n",
    "\n",
    "println(topKRecs.mkString(\"\\n\"))"
   ]
  },
  {
   "cell_type": "code",
   "execution_count": 10,
   "metadata": {
    "collapsed": false
   },
   "outputs": [
    {
     "name": "stdout",
     "output_type": "stream",
     "text": [
      "Frighteners, The (1996)\n"
     ]
    }
   ],
   "source": [
    "val movies = sc.textFile(\"ml-100k/u.item\")\n",
    "val titles = movies.map(line => line.split(\"\\\\|\").take(2)).map(array => (array(0).toInt, array(1))).collectAsMap()\n",
    "println(titles(123))"
   ]
  },
  {
   "cell_type": "code",
   "execution_count": 11,
   "metadata": {
    "collapsed": false
   },
   "outputs": [
    {
     "name": "stdout",
     "output_type": "stream",
     "text": [
      "33\n"
     ]
    }
   ],
   "source": [
    "val moviesForUser = ratings.keyBy(_.user).lookup(789)\n",
    "println(moviesForUser.size)"
   ]
  },
  {
   "cell_type": "code",
   "execution_count": 12,
   "metadata": {
    "collapsed": false,
    "scrolled": false
   },
   "outputs": [
    {
     "name": "stdout",
     "output_type": "stream",
     "text": [
      "(Godfather, The (1972),5.0)\n",
      "(Trainspotting (1996),5.0)\n",
      "(Dead Man Walking (1995),5.0)\n",
      "(Star Wars (1977),5.0)\n",
      "(Swingers (1996),5.0)\n",
      "(Leaving Las Vegas (1995),5.0)\n",
      "(Bound (1996),5.0)\n",
      "(Fargo (1996),5.0)\n",
      "(Last Supper, The (1995),5.0)\n",
      "(Private Parts (1997),4.0)\n"
     ]
    }
   ],
   "source": [
    "moviesForUser.sortBy(-_.rating).take(10).map(rating=>(titles(rating.product), rating.rating)).foreach(println)"
   ]
  },
  {
   "cell_type": "code",
   "execution_count": 13,
   "metadata": {
    "collapsed": false,
    "scrolled": false
   },
   "outputs": [
    {
     "name": "stdout",
     "output_type": "stream",
     "text": [
      "(Searching for Bobby Fischer (1993),5.532445795990224)\n",
      "(Pulp Fiction (1994),5.3841005086294444)\n",
      "(To Die For (1995),5.135608782660923)\n",
      "(Chasing Amy (1997),5.052365822874689)\n",
      "(Godfather, The (1972),5.021809954747658)\n",
      "(Miller's Crossing (1990),4.991299670310026)\n",
      "(Mighty Aphrodite (1995),4.981358707538808)\n",
      "(Trainspotting (1996),4.975747453008007)\n",
      "(Fargo (1996),4.963449395933944)\n",
      "(Harold and Maude (1971),4.963430699869444)\n"
     ]
    }
   ],
   "source": [
    "topKRecs.map(rating => (titles(rating.product), rating.rating)).foreach(println)"
   ]
  },
  {
   "cell_type": "code",
   "execution_count": 14,
   "metadata": {
    "collapsed": false
   },
   "outputs": [
    {
     "name": "stdout",
     "output_type": "stream",
     "text": [
      "[1.000000; 2.000000; 3.000000]\n"
     ]
    }
   ],
   "source": [
    "//Cosine similairy approach\n",
    "import org.jblas.DoubleMatrix\n",
    "val aMatrix = new DoubleMatrix(Array(1.0, 2.0, 3.0))\n",
    "println(aMatrix)"
   ]
  },
  {
   "cell_type": "code",
   "execution_count": 16,
   "metadata": {
    "collapsed": false
   },
   "outputs": [
    {
     "name": "stdout",
     "output_type": "stream",
     "text": [
      "1.0000000000000002\n"
     ]
    }
   ],
   "source": [
    "def cosineSimilarity(vec1: DoubleMatrix, vec2: DoubleMatrix): Double = {\n",
    "    vec1.dot(vec2) / (vec1.norm2() * vec2.norm2())\n",
    "}\n",
    "\n",
    "val itemId = 567\n",
    "val itemFactor = model.productFeatures.lookup(itemId).head\n",
    "val itemVector = new DoubleMatrix(itemFactor)\n",
    "println(cosineSimilarity(itemVector, itemVector))"
   ]
  },
  {
   "cell_type": "code",
   "execution_count": 19,
   "metadata": {
    "collapsed": false
   },
   "outputs": [
    {
     "name": "stdout",
     "output_type": "stream",
     "text": [
      "(567,1.0000000000000002)\n",
      "(352,0.699628893722735)\n",
      "(219,0.6937744401062669)\n",
      "(436,0.6917255055466252)\n",
      "(475,0.6827195734151007)\n",
      "(335,0.6798762337271753)\n",
      "(343,0.6690790746432513)\n",
      "(1083,0.6686899502228364)\n",
      "(813,0.6678519651274419)\n",
      "(1007,0.6624126366680484)\n"
     ]
    }
   ],
   "source": [
    "val sims = model.productFeatures.map{ case (id, factor) =>\n",
    "    val factorVector = new DoubleMatrix(factor)\n",
    "    val sim = cosineSimilarity(factorVector, itemVector)\n",
    "    (id, sim)\n",
    "}\n",
    "\n",
    "val sortedSims = sims.top(K)(Ordering.by[(Int, Double), Double] { case\n",
    "    (id, similarity) => similarity\n",
    "})\n",
    "\n",
    "println(sortedSims.take(10).mkString(\"\\n\"))"
   ]
  },
  {
   "cell_type": "code",
   "execution_count": 20,
   "metadata": {
    "collapsed": false
   },
   "outputs": [
    {
     "name": "stdout",
     "output_type": "stream",
     "text": [
      "Wes Craven's New Nightmare (1994)\n"
     ]
    }
   ],
   "source": [
    "println(titles(itemId))"
   ]
  },
  {
   "cell_type": "code",
   "execution_count": 21,
   "metadata": {
    "collapsed": false
   },
   "outputs": [
    {
     "data": {
      "text/plain": [
       "(Spice World (1997),0.699628893722735)\n",
       "(Nightmare on Elm Street, A (1984),0.6937744401062669)\n",
       "(American Werewolf in London, An (1981),0.6917255055466252)\n",
       "(Trainspotting (1996),0.6827195734151007)\n",
       "(How to Be a Player (1997),0.6798762337271753)\n",
       "(Alien: Resurrection (1997),0.6690790746432513)\n",
       "(Albino Alligator (1996),0.6686899502228364)\n",
       "(Celluloid Closet, The (1995),0.6678519651274419)\n",
       "(Waiting for Guffman (1996),0.6624126366680484)\n",
       "(Scream (1996),0.6613601339010805)"
      ]
     },
     "execution_count": 21,
     "metadata": {},
     "output_type": "execute_result"
    }
   ],
   "source": [
    "val sortedSims2 = sims.top(K + 1)(Ordering.by[(Int, Double), Double] {\n",
    "case(id, similarity) => similarity})\n",
    "\n",
    "sortedSims2.slice(1,11).map{ case (id, sim) => (titles(id), sim)}.mkString(\"\\n\")"
   ]
  },
  {
   "cell_type": "code",
   "execution_count": null,
   "metadata": {
    "collapsed": true
   },
   "outputs": [],
   "source": []
  }
 ],
 "metadata": {
  "kernelspec": {
   "display_name": "Apache Toree - Scala",
   "language": "scala",
   "name": "apache_toree_scala"
  },
  "language_info": {
   "name": "scala",
   "version": "2.10.4"
  }
 },
 "nbformat": 4,
 "nbformat_minor": 1
}
