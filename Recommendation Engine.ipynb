{
 "cells": [
  {
   "cell_type": "code",
   "execution_count": 1,
   "metadata": {
    "collapsed": false
   },
   "outputs": [
    {
     "name": "stdout",
     "output_type": "stream",
     "text": [
      "196\t242\t3\t881250949\n"
     ]
    }
   ],
   "source": [
    "val rawData = sc.textFile(\"ml-100k/u.data\")\n",
    "println(rawData.first())"
   ]
  },
  {
   "cell_type": "code",
   "execution_count": 2,
   "metadata": {
    "collapsed": false,
    "scrolled": true
   },
   "outputs": [
    {
     "name": "stdout",
     "output_type": "stream",
     "text": [
      "[Ljava.lang.String;@1793844e\n"
     ]
    }
   ],
   "source": [
    "val rawRatings = rawData.map(_.split(\"\\t\").take(3))\n",
    "println(rawRatings.first())"
   ]
  },
  {
   "cell_type": "code",
   "execution_count": 3,
   "metadata": {
    "collapsed": true
   },
   "outputs": [],
   "source": [
    "import org.apache.spark.mllib.recommendation.ALS\n",
    "import org.apache.spark.mllib.recommendation.Rating\n",
    "\n",
    "val ratings = rawRatings.map{ case Array(user, movie, rating) => Rating(user.toInt, movie.toInt, rating.toDouble)}"
   ]
  },
  {
   "cell_type": "code",
   "execution_count": 4,
   "metadata": {
    "collapsed": false,
    "scrolled": true
   },
   "outputs": [
    {
     "name": "stdout",
     "output_type": "stream",
     "text": [
      "Rating(196,242,3.0)\n"
     ]
    }
   ],
   "source": [
    "println(ratings.first())"
   ]
  },
  {
   "cell_type": "code",
   "execution_count": 5,
   "metadata": {
    "collapsed": false
   },
   "outputs": [
    {
     "name": "stdout",
     "output_type": "stream",
     "text": [
      "users MapPartitionsRDD[210] at mapValues at ALS.scala:255\n"
     ]
    }
   ],
   "source": [
    "val model = ALS.train(ratings, 50, 10, 0.01)\n",
    "println(model.userFeatures)"
   ]
  },
  {
   "cell_type": "code",
   "execution_count": 6,
   "metadata": {
    "collapsed": false
   },
   "outputs": [
    {
     "name": "stdout",
     "output_type": "stream",
     "text": [
      "943\n"
     ]
    }
   ],
   "source": [
    "println(model.userFeatures.count)"
   ]
  },
  {
   "cell_type": "code",
   "execution_count": 7,
   "metadata": {
    "collapsed": false
   },
   "outputs": [
    {
     "name": "stdout",
     "output_type": "stream",
     "text": [
      "1682\n"
     ]
    }
   ],
   "source": [
    "println(model.productFeatures.count)"
   ]
  },
  {
   "cell_type": "code",
   "execution_count": 8,
   "metadata": {
    "collapsed": false
   },
   "outputs": [
    {
     "name": "stdout",
     "output_type": "stream",
     "text": [
      "4.362895251633278\n"
     ]
    }
   ],
   "source": [
    "val predictedRating = model.predict(789, 123)\n",
    "println(predictedRating)"
   ]
  },
  {
   "cell_type": "code",
   "execution_count": 9,
   "metadata": {
    "collapsed": false,
    "scrolled": true
   },
   "outputs": [
    {
     "name": "stdout",
     "output_type": "stream",
     "text": [
      "Rating(789,68,6.281131062577569)\n",
      "Rating(789,646,6.158066315115435)\n",
      "Rating(789,179,5.617872750610584)\n",
      "Rating(789,156,5.566253337933734)\n",
      "Rating(789,641,5.497144452124723)\n",
      "Rating(789,199,5.481461888669354)\n",
      "Rating(789,23,5.368052680459596)\n",
      "Rating(789,1019,5.316037210506697)\n",
      "Rating(789,53,5.266712683357319)\n",
      "Rating(789,589,5.256749255853212)\n"
     ]
    }
   ],
   "source": [
    "val userId = 789\n",
    "val K = 10\n",
    "val topKRecs = model.recommendProducts(userId, K)\n",
    "\n",
    "println(topKRecs.mkString(\"\\n\"))"
   ]
  },
  {
   "cell_type": "code",
   "execution_count": 10,
   "metadata": {
    "collapsed": false
   },
   "outputs": [
    {
     "name": "stdout",
     "output_type": "stream",
     "text": [
      "Frighteners, The (1996)\n"
     ]
    }
   ],
   "source": [
    "val movies = sc.textFile(\"ml-100k/u.item\")\n",
    "val titles = movies.map(line => line.split(\"\\\\|\").take(2)).map(array => (array(0).toInt, array(1))).collectAsMap()\n",
    "println(titles(123))"
   ]
  },
  {
   "cell_type": "code",
   "execution_count": 11,
   "metadata": {
    "collapsed": false
   },
   "outputs": [
    {
     "name": "stdout",
     "output_type": "stream",
     "text": [
      "33\n"
     ]
    }
   ],
   "source": [
    "val moviesForUser = ratings.keyBy(_.user).lookup(789)\n",
    "println(moviesForUser.size)"
   ]
  },
  {
   "cell_type": "code",
   "execution_count": 12,
   "metadata": {
    "collapsed": false,
    "scrolled": false
   },
   "outputs": [
    {
     "name": "stdout",
     "output_type": "stream",
     "text": [
      "(Godfather, The (1972),5.0)\n",
      "(Trainspotting (1996),5.0)\n",
      "(Dead Man Walking (1995),5.0)\n",
      "(Star Wars (1977),5.0)\n",
      "(Swingers (1996),5.0)\n",
      "(Leaving Las Vegas (1995),5.0)\n",
      "(Bound (1996),5.0)\n",
      "(Fargo (1996),5.0)\n",
      "(Last Supper, The (1995),5.0)\n",
      "(Private Parts (1997),4.0)\n"
     ]
    }
   ],
   "source": [
    "moviesForUser.sortBy(-_.rating).take(10).map(rating=>(titles(rating.product), rating.rating)).foreach(println)"
   ]
  },
  {
   "cell_type": "code",
   "execution_count": 13,
   "metadata": {
    "collapsed": false,
    "scrolled": false
   },
   "outputs": [
    {
     "name": "stdout",
     "output_type": "stream",
     "text": [
      "(Crow, The (1994),6.281131062577569)\n",
      "(Once Upon a Time in the West (1969),6.158066315115435)\n",
      "(Clockwork Orange, A (1971),5.617872750610584)\n",
      "(Reservoir Dogs (1992),5.566253337933734)\n",
      "(Paths of Glory (1957),5.497144452124723)\n",
      "(Bridge on the River Kwai, The (1957),5.481461888669354)\n",
      "(Taxi Driver (1976),5.368052680459596)\n",
      "(Die xue shuang xiong (Killer, The) (1989),5.316037210506697)\n",
      "(Natural Born Killers (1994),5.266712683357319)\n",
      "(Wild Bunch, The (1969),5.256749255853212)\n"
     ]
    }
   ],
   "source": [
    "topKRecs.map(rating => (titles(rating.product), rating.rating)).foreach(println)"
   ]
  },
  {
   "cell_type": "code",
   "execution_count": 14,
   "metadata": {
    "collapsed": false
   },
   "outputs": [
    {
     "name": "stdout",
     "output_type": "stream",
     "text": [
      "[1.000000; 2.000000; 3.000000]\n"
     ]
    }
   ],
   "source": [
    "//Cosine similairy approach\n",
    "import org.jblas.DoubleMatrix\n",
    "val aMatrix = new DoubleMatrix(Array(1.0, 2.0, 3.0))\n",
    "println(aMatrix)"
   ]
  },
  {
   "cell_type": "code",
   "execution_count": 15,
   "metadata": {
    "collapsed": false
   },
   "outputs": [
    {
     "name": "stdout",
     "output_type": "stream",
     "text": [
      "0.9999999999999998\n"
     ]
    }
   ],
   "source": [
    "def cosineSimilarity(vec1: DoubleMatrix, vec2: DoubleMatrix): Double = {\n",
    "    vec1.dot(vec2) / (vec1.norm2() * vec2.norm2())\n",
    "}\n",
    "\n",
    "val itemId = 567\n",
    "val itemFactor = model.productFeatures.lookup(itemId).head\n",
    "val itemVector = new DoubleMatrix(itemFactor)\n",
    "println(cosineSimilarity(itemVector, itemVector))"
   ]
  },
  {
   "cell_type": "code",
   "execution_count": 16,
   "metadata": {
    "collapsed": false
   },
   "outputs": [
    {
     "name": "stdout",
     "output_type": "stream",
     "text": [
      "(567,0.9999999999999998)\n",
      "(295,0.763937835921005)\n",
      "(413,0.7539794117233227)\n",
      "(516,0.749396050105273)\n",
      "(670,0.7491382459162684)\n",
      "(642,0.7443836971217216)\n",
      "(257,0.7443217706089565)\n",
      "(150,0.7408857068777103)\n",
      "(471,0.7387196037513115)\n",
      "(405,0.734483157797005)\n"
     ]
    }
   ],
   "source": [
    "val sims = model.productFeatures.map{ case (id, factor) =>\n",
    "    val factorVector = new DoubleMatrix(factor)\n",
    "    val sim = cosineSimilarity(factorVector, itemVector)\n",
    "    (id, sim)\n",
    "}\n",
    "\n",
    "val sortedSims = sims.top(K)(Ordering.by[(Int, Double), Double] { case\n",
    "    (id, similarity) => similarity\n",
    "})\n",
    "\n",
    "println(sortedSims.take(10).mkString(\"\\n\"))"
   ]
  },
  {
   "cell_type": "code",
   "execution_count": 17,
   "metadata": {
    "collapsed": false
   },
   "outputs": [
    {
     "name": "stdout",
     "output_type": "stream",
     "text": [
      "Wes Craven's New Nightmare (1994)\n"
     ]
    }
   ],
   "source": [
    "println(titles(itemId))"
   ]
  },
  {
   "cell_type": "code",
   "execution_count": 18,
   "metadata": {
    "collapsed": false
   },
   "outputs": [
    {
     "data": {
      "text/plain": [
       "(Breakdown (1997),0.763937835921005)\n",
       "(Tales from the Crypt Presents: Bordello of Blood (1996),0.7539794117233227)\n",
       "(Local Hero (1983),0.749396050105273)\n",
       "(Body Snatchers (1993),0.7491382459162684)\n",
       "(Grifters, The (1990),0.7443836971217216)\n",
       "(Men in Black (1997),0.7443217706089565)\n",
       "(Swingers (1996),0.7408857068777103)\n",
       "(Courage Under Fire (1996),0.7387196037513115)\n",
       "(Mission: Impossible (1996),0.734483157797005)\n",
       "(Private Parts (1997),0.732110292336232)"
      ]
     },
     "execution_count": 18,
     "metadata": {},
     "output_type": "execute_result"
    }
   ],
   "source": [
    "val sortedSims2 = sims.top(K + 1)(Ordering.by[(Int, Double), Double] {\n",
    "case(id, similarity) => similarity})\n",
    "\n",
    "sortedSims2.slice(1,11).map{ case (id, sim) => (titles(id), sim)}.mkString(\"\\n\")"
   ]
  },
  {
   "cell_type": "code",
   "execution_count": 19,
   "metadata": {
    "collapsed": false
   },
   "outputs": [
    {
     "name": "stdout",
     "output_type": "stream",
     "text": [
      "Rating(789,1012,4.0)\n"
     ]
    }
   ],
   "source": [
    "val actualRating = moviesForUser.take(1)(0)\n",
    "println(actualRating)"
   ]
  },
  {
   "cell_type": "code",
   "execution_count": 20,
   "metadata": {
    "collapsed": false,
    "scrolled": true
   },
   "outputs": [
    {
     "name": "stdout",
     "output_type": "stream",
     "text": [
      "4.053099222433738\n"
     ]
    }
   ],
   "source": [
    "val predictedRating = model.predict(789, actualRating.product)\n",
    "println(predictedRating)"
   ]
  },
  {
   "cell_type": "code",
   "execution_count": 21,
   "metadata": {
    "collapsed": false
   },
   "outputs": [
    {
     "name": "stdout",
     "output_type": "stream",
     "text": [
      "0.0028195274230675485\n"
     ]
    }
   ],
   "source": [
    "val squaredError = math.pow(predictedRating - actualRating.rating, 2.0)\n",
    "println(squaredError)"
   ]
  },
  {
   "cell_type": "code",
   "execution_count": 23,
   "metadata": {
    "collapsed": false
   },
   "outputs": [
    {
     "name": "stdout",
     "output_type": "stream",
     "text": [
      "Mean Squared Error = 0.08404232440699576\n"
     ]
    }
   ],
   "source": [
    "val userProducts = ratings.map{ case Rating(user, product, rating) => (user, product)}\n",
    "val predictions = model.predict(userProducts).map{\n",
    "    case Rating(user, product, rating) => ((user, product), rating)\n",
    "}\n",
    "\n",
    "val ratingsAndPredictions = ratings.map{\n",
    "    case Rating(user, product, rating) => ((user, product), rating)\n",
    "}.join(predictions)\n",
    "\n",
    "val MSE = ratingsAndPredictions.map{\n",
    "    case ((user, product), (actual, predicted)) => math.pow((actual - predicted), 2.0)\n",
    "}.reduce(_+_) / ratingsAndPredictions.count\n",
    "println(\"Mean Squared Error = \" + MSE)"
   ]
  },
  {
   "cell_type": "code",
   "execution_count": 24,
   "metadata": {
    "collapsed": false
   },
   "outputs": [
    {
     "name": "stdout",
     "output_type": "stream",
     "text": [
      "Root Mean Squared Error = 0.289900542267509\n"
     ]
    }
   ],
   "source": [
    "val RMSE = math.sqrt(MSE)\n",
    "println(\"Root Mean Squared Error = \" + RMSE)"
   ]
  },
  {
   "cell_type": "code",
   "execution_count": 41,
   "metadata": {
    "collapsed": false
   },
   "outputs": [
    {
     "name": "stdout",
     "output_type": "stream",
     "text": [
      "ArrayBuffer(1012, 127, 475, 93, 1161, 286, 293, 9, 50, 294, 181, 1, 1008, 508, 284, 1017, 137, 111, 742, 248, 249, 1007, 591, 150, 276, 151, 129, 100, 741, 288, 762, 628, 124)\n"
     ]
    }
   ],
   "source": [
    "def avgPrecisionK(actual: Seq[Int], predicted: Seq[Int], k: Int): Double = {\n",
    "    val predK = predicted.take(k)\n",
    "    var score = 0.0\n",
    "    var numHits = 0.0\n",
    "    for((p, i) <- predK.zipWithIndex){\n",
    "        if(actual.contains(p)){\n",
    "            numHits += 1.0\n",
    "            score += numHits / (i.toDouble + 1.0)\n",
    "        }\n",
    "    }\n",
    "    if(actual.isEmpty){\n",
    "        1.0\n",
    "    }else{\n",
    "        score / scala.math.min(actual.size, k).toDouble\n",
    "    }\n",
    "}\n",
    "\n",
    "val actualMovies = moviesForUser.map(_.product)\n",
    "println(actualMovies)"
   ]
  },
  {
   "cell_type": "code",
   "execution_count": 44,
   "metadata": {
    "collapsed": false
   },
   "outputs": [
    {
     "name": "stdout",
     "output_type": "stream",
     "text": [
      "68, 646, 179, 156, 641, 199, 23, 1019, 53, 589\n"
     ]
    }
   ],
   "source": [
    "val predictedMovies =  topKRecs.map(_.product)\n",
    "println(predictedMovies.mkString(\", \"))"
   ]
  },
  {
   "cell_type": "code",
   "execution_count": 47,
   "metadata": {
    "collapsed": false
   },
   "outputs": [
    {
     "name": "stdout",
     "output_type": "stream",
     "text": [
      "0.0\n"
     ]
    }
   ],
   "source": [
    "val apk10 = avgPrecisionK(actualMovies, predictedMovies, 10)\n",
    "println(apk10)"
   ]
  },
  {
   "cell_type": "code",
   "execution_count": 48,
   "metadata": {
    "collapsed": false
   },
   "outputs": [
    {
     "name": "stdout",
     "output_type": "stream",
     "text": [
      "(1682,50)\n"
     ]
    }
   ],
   "source": [
    "val itemFactors = model.productFeatures.map{ case (id, factor) => factor }.collect()\n",
    "val itemMatrix = new DoubleMatrix(itemFactors)\n",
    "println(itemMatrix.rows, itemMatrix.columns)"
   ]
  },
  {
   "cell_type": "code",
   "execution_count": 49,
   "metadata": {
    "collapsed": true
   },
   "outputs": [],
   "source": [
    "val imBroadcast = sc.broadcast(itemMatrix)"
   ]
  },
  {
   "cell_type": "code",
   "execution_count": 50,
   "metadata": {
    "collapsed": true
   },
   "outputs": [],
   "source": [
    "val allRecs = model.userFeatures.map{ case (userId, array) => \n",
    "    val userVector = new DoubleMatrix(array)\n",
    "    val scores = imBroadcast.value.mmul(userVector)\n",
    "    val sortedWithId = scores.data.zipWithIndex.sortBy(-_._1)\n",
    "    val recommendedIds = sortedWithId.map(_._2 + 1).toSeq\n",
    "    (userId, recommendedIds)\n",
    "}"
   ]
  },
  {
   "cell_type": "code",
   "execution_count": 51,
   "metadata": {
    "collapsed": true
   },
   "outputs": [],
   "source": [
    "val userMovies = ratings.map{ case Rating(user, product, rating) => (user, product) }.groupBy(_._1)"
   ]
  },
  {
   "cell_type": "code",
   "execution_count": 52,
   "metadata": {
    "collapsed": false
   },
   "outputs": [
    {
     "name": "stdout",
     "output_type": "stream",
     "text": [
      "Mean Average Precision at K = 0.02642179636082074\n"
     ]
    }
   ],
   "source": [
    "val K = 10\n",
    "val MAPK = allRecs.join(userMovies).map{ case (userId, (predicted, actualWithIds)) =>\n",
    "    val actual = actualWithIds.map(_._2).toSeq\n",
    "    avgPrecisionK(actual, predicted, K)\n",
    "}.reduce(_+_) / allRecs.count\n",
    "println(\"Mean Average Precision at K = \" + MAPK)"
   ]
  },
  {
   "cell_type": "code",
   "execution_count": 53,
   "metadata": {
    "collapsed": false
   },
   "outputs": [
    {
     "name": "stdout",
     "output_type": "stream",
     "text": [
      "Mean Squared Error = 0.08404232440699576\n",
      "Root Mean Squared Error = 0.289900542267509\n"
     ]
    }
   ],
   "source": [
    "//MLlib's built-in evaluation functions\n",
    "import org.apache.spark.mllib.evaluation.RegressionMetrics\n",
    "val predictedAndTrue = ratingsAndPredictions.map{ case ((user, product), (predicted, actual)) => (predicted, actual) }\n",
    "val regressionMetrics = new RegressionMetrics(predictedAndTrue)\n",
    "\n",
    "println(\"Mean Squared Error = \" + regressionMetrics.meanSquaredError)\n",
    "println(\"Root Mean Squared Error = \" + regressionMetrics.rootMeanSquaredError)"
   ]
  },
  {
   "cell_type": "code",
   "execution_count": 55,
   "metadata": {
    "collapsed": false
   },
   "outputs": [
    {
     "name": "stdout",
     "output_type": "stream",
     "text": [
      "\r",
      "                                                                                \r",
      "Mean Average Precision = 0.0729136278794132\n"
     ]
    }
   ],
   "source": [
    "//Ranking Metrics\n",
    "import org.apache.spark.mllib.evaluation.RankingMetrics\n",
    "val predictedAndTrueForRanking = allRecs.join(userMovies).map{ case (userId, (predicted, actualWithIds)) =>\n",
    "    val actual = actualWithIds.map(_._2)\n",
    "    (predicted.toArray, actual.toArray)\n",
    "}\n",
    "val rankingMetrics = new RankingMetrics(predictedAndTrueForRanking)\n",
    "println(\"Mean Average Precision = \" + rankingMetrics.meanAveragePrecision)"
   ]
  },
  {
   "cell_type": "code",
   "execution_count": 56,
   "metadata": {
    "collapsed": false
   },
   "outputs": [
    {
     "name": "stdout",
     "output_type": "stream",
     "text": [
      "Mean Average Precision = 0.07291362787941318\n"
     ]
    }
   ],
   "source": [
    "val  MAPK2000 = allRecs.join(userMovies).map{ case (userId, (predicted, actualWithIds)) =>\n",
    "    val actual = actualWithIds.map(_._2).toSeq\n",
    "    avgPrecision(actual, predicted, 2000)\n",
    "}.reduce(_+_) / allRecs.count\n",
    "println(\"Mean Average Precision = \" + MAPK2000)"
   ]
  },
  {
   "cell_type": "code",
   "execution_count": null,
   "metadata": {
    "collapsed": true
   },
   "outputs": [],
   "source": []
  }
 ],
 "metadata": {
  "kernelspec": {
   "display_name": "Apache Toree - Scala",
   "language": "scala",
   "name": "apache_toree_scala"
  },
  "language_info": {
   "name": "scala",
   "version": "2.10.4"
  }
 },
 "nbformat": 4,
 "nbformat_minor": 1
}
