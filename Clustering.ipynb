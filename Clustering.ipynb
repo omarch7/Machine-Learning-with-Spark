{
 "cells": [
  {
   "cell_type": "code",
   "execution_count": 1,
   "metadata": {
    "collapsed": false
   },
   "outputs": [
    {
     "name": "stdout",
     "output_type": "stream",
     "text": [
      "1|Toy Story (1995)|01-Jan-1995||http://us.imdb.com/M/title-exact?Toy%20Story%20(1995)|0|0|0|1|1|1|0|0|0|0|0|0|0|0|0|0|0|0|0"
     ]
    }
   ],
   "source": [
    "val movies = sc.textFile(\"ml-100k/u.item\")\n",
    "print(movies.first)"
   ]
  },
  {
   "cell_type": "code",
   "execution_count": 2,
   "metadata": {
    "collapsed": false
   },
   "outputs": [
    {
     "name": "stdout",
     "output_type": "stream",
     "text": [
      "unknown|0\n",
      "Action|1\n",
      "Adventure|2\n",
      "Animation|3\n",
      "Children's|4\n"
     ]
    }
   ],
   "source": [
    "val genres = sc.textFile(\"ml-100k/u.genre\")\n",
    "genres.take(5).foreach(println)"
   ]
  },
  {
   "cell_type": "code",
   "execution_count": 3,
   "metadata": {
    "collapsed": false
   },
   "outputs": [
    {
     "name": "stdout",
     "output_type": "stream",
     "text": [
      "Map(2 -> Adventure, 5 -> Comedy, 12 -> Musical, 15 -> Sci-Fi, 8 -> Drama, 18 -> Western, 7 -> Documentary, 17 -> War, 1 -> Action, 4 -> Children's, 11 -> Horror, 14 -> Romance, 6 -> Crime, 0 -> unknown, 9 -> Fantasy, 16 -> Thriller, 3 -> Animation, 10 -> Film-Noir, 13 -> Mystery)\n"
     ]
    }
   ],
   "source": [
    "val genreMap = genres.filter(!_.isEmpty).map(line => line.split(\"\\\\|\")).map(array => (array(1), array(0))).collectAsMap\n",
    "println(genreMap)"
   ]
  },
  {
   "cell_type": "code",
   "execution_count": 4,
   "metadata": {
    "collapsed": false
   },
   "outputs": [
    {
     "name": "stdout",
     "output_type": "stream",
     "text": [
      "(1,(Toy Story (1995),ArrayBuffer(Animation, Children's, Comedy)))\n"
     ]
    }
   ],
   "source": [
    "val titlesAndGenres = movies.map(_.split(\"\\\\|\")).map{ array =>\n",
    "    val genres = array.toSeq.slice(5, array.size)\n",
    "    val genresAssigned = genres.zipWithIndex.filter{ case (g, idx) =>\n",
    "        g == \"1\"\n",
    "    }.map { case (g, idx) => \n",
    "        genreMap(idx.toString)\n",
    "    }\n",
    "    (array(0).toInt, (array(1), genresAssigned))\n",
    "}\n",
    "println(titlesAndGenres.first)"
   ]
  },
  {
   "cell_type": "code",
   "execution_count": 5,
   "metadata": {
    "collapsed": true
   },
   "outputs": [],
   "source": [
    "//Training the recommendation model\n",
    "import org.apache.spark.mllib.recommendation.ALS\n",
    "import org.apache.spark.mllib.recommendation.Rating\n",
    "\n",
    "val rawData = sc.textFile(\"ml-100k/u.data\")\n",
    "val rawRatings = rawData.map(_.split(\"\\t\").take(3))\n",
    "val ratings = rawRatings.map{ case Array(user, movie, rating) =>\n",
    "    Rating(user.toInt, movie.toInt, rating.toDouble)\n",
    "}\n",
    "ratings.cache\n",
    "val alsModel = ALS.train(ratings, 50, 10, 0.1)"
   ]
  },
  {
   "cell_type": "code",
   "execution_count": 6,
   "metadata": {
    "collapsed": true
   },
   "outputs": [],
   "source": [
    "import org.apache.spark.mllib.linalg.Vectors\n",
    "val movieFactors = alsModel.productFeatures.map{ case (id, factor) =>\n",
    "    (id, Vectors.dense(factor))\n",
    "}\n",
    "val movieVectors = movieFactors.map(_._2)\n",
    "val userFactors = alsModel.userFeatures.map { case (id, factor) =>\n",
    "    (id, Vectors.dense(factor))\n",
    "}\n",
    "val userVectors = userFactors.map(_._2)"
   ]
  },
  {
   "cell_type": "code",
   "execution_count": 8,
   "metadata": {
    "collapsed": false
   },
   "outputs": [
    {
     "name": "stdout",
     "output_type": "stream",
     "text": [
      "Movie factors mean: [0.2023456278013444,-0.04963738562893034,0.08218398786665168,0.11263451117872496,-0.15559253068595333,-0.2447971873733965,-0.059198443220822884,-0.028449318549935192,-0.4471871985258771,0.059438231975972075,0.12556779141307087,0.005243797720868528,-0.1769953971413361,-0.401243887483181,0.35760016906530323,0.05452279459350239,-0.10510818999507471,0.24417377235132057,-0.13876186639707522,-0.031620801613490936,-0.14214234602334155,-0.021193827218173998,-0.31084781261321554,-0.08879711594943235,-0.06509388520308639,-0.06435760057926557,0.18619553213960352,-0.03663261717278913,-0.4118309044146445,0.11243916438295269,0.1645287189366628,0.16689908518896118,-0.032056633921664156,0.3814835926721606,-0.28709520656198073,0.3199182076736584,-0.02332507786305151,0.11282535358053003,0.07478791526876594,0.05052759392713639,-0.051556927091664796,0.1392942289706306,-0.1897084360341342,0.0744083964165318,0.36767396360210647,-0.04342123442971324,0.0815284416411412,0.3062136001256765,-0.29306673442000963,0.3481651192850266]\n",
      "Movie factors variance: [0.027422338320984264,0.024899197927920818,0.02645843637972614,0.041828578345057904,0.036983042986353375,0.04265111018943852,0.03252593974419212,0.024315028654284417,0.036961566415268696,0.041634636465576795,0.02648057757929055,0.03288231842226635,0.02898573669388999,0.04485698275007081,0.03664455383707183,0.029497608539226648,0.030544037328287883,0.03038580067044884,0.029171207297502364,0.033820389423674435,0.032080334986697906,0.0246046528371857,0.030673842064575015,0.03193058303301644,0.02881520220702873,0.023734973015916858,0.03101678723251168,0.04902730719981791,0.041791231587655145,0.029410538214382664,0.027934061667399243,0.026931776696768495,0.0449953120405288,0.03502535487011578,0.040252841552849965,0.03963169114650725,0.025502324767214403,0.04035397169497813,0.029997599070186894,0.028062182199718927,0.027275085587372686,0.022926373514393642,0.031549652309093665,0.03947872190706335,0.03812043453325607,0.0328717642352953,0.032039274492828215,0.03538478065082891,0.03426886433989172,0.03036876960156467]\n",
      "User factors mean: [0.2964553163553664,-0.061014173970927364,0.10694842247252659,0.1849175201937451,-0.22260090949489253,-0.33204679361549705,-0.10246873093548585,-0.07118314635390811,-0.663779551106034,0.10787700879728782,0.11739898289074575,0.020682679728574543,-0.24177496954277738,-0.5188297985594675,0.49411809961642356,0.09466997966453818,-0.15675398321058084,0.30764552897354935,-0.17501462157485848,-0.009926999468624385,-0.24614740192157733,-0.03993034678915195,-0.42687846507831684,-0.13293384119184293,-0.04927580211254051,-0.09361940221505463,0.2417328042267027,-0.05973423982618177,-0.5482809734081383,0.10268730168201946,0.22398967761774763,0.2465317353687332,-0.03807082144175455,0.4375756223323583,-0.36731164977294567,0.4696842137857983,-0.02069952107908788,0.17283481910306525,0.08217618907189485,0.06343437018283904,-0.08520880191584934,0.20236382059674737,-0.25468382186393135,0.1345682293528257,0.5443836920376182,-0.009325639215254446,0.1372195741284909,0.421528497664159,-0.4322782791436186,0.4559317964950353]\n",
      "User factors variance: [0.03485072356986558,0.031118160068959472,0.029542746776127143,0.047654974985664414,0.03355277493341899,0.03941377778862186,0.043810131045209734,0.029449869848371852,0.029702391811576113,0.0509957138277825,0.035724202039307124,0.03617757266248587,0.03245712858298102,0.04504831678440202,0.04303242830321272,0.0350344959773728,0.034598307457122265,0.03501416493743778,0.03324589941221027,0.03378834855188276,0.042980295410028194,0.031079936400565666,0.030723864069136634,0.036664848876786935,0.03482859913980966,0.0293188894267881,0.03150420423223637,0.057199131530204554,0.03776457265534488,0.03437188838716013,0.03160951417677741,0.029851329839381508,0.04538951573925914,0.04045879466390076,0.03759204528635478,0.03243449414979383,0.03480671371637707,0.04435558665436419,0.03650201226124443,0.038667258178516996,0.033333086102743506,0.027167780004090182,0.04707456057356893,0.03662501339003859,0.043474984123284315,0.037520533671502244,0.03744014454112648,0.03536862918049786,0.036183214848006844,0.03108251921076095]\n"
     ]
    }
   ],
   "source": [
    "import org.apache.spark.mllib.linalg.distributed.RowMatrix\n",
    "\n",
    "val movieMatrix = new RowMatrix(movieVectors)\n",
    "val movieMatrixSummary = movieMatrix.computeColumnSummaryStatistics()\n",
    "val userMatrix = new RowMatrix(userVectors)\n",
    "val userMatrixSummary = userMatrix.computeColumnSummaryStatistics()\n",
    "println(\"Movie factors mean: \" + movieMatrixSummary.mean)\n",
    "println(\"Movie factors variance: \" + movieMatrixSummary.variance)\n",
    "println(\"User factors mean: \" + userMatrixSummary.mean)\n",
    "println(\"User factors variance: \" + userMatrixSummary.variance)"
   ]
  },
  {
   "cell_type": "code",
   "execution_count": 9,
   "metadata": {
    "collapsed": true
   },
   "outputs": [],
   "source": [
    "import org.apache.spark.mllib.clustering.KMeans\n",
    "val numClusters = 5\n",
    "val numIterations = 10\n",
    "val numRuns = 3\n",
    "\n",
    "val movieClusterModel = KMeans.train(movieVectors, numClusters, numIterations, numRuns)"
   ]
  },
  {
   "cell_type": "code",
   "execution_count": 10,
   "metadata": {
    "collapsed": true
   },
   "outputs": [],
   "source": [
    "val movieClusterModelConverged = KMeans.train(movieVectors, numClusters, 100)"
   ]
  },
  {
   "cell_type": "code",
   "execution_count": 11,
   "metadata": {
    "collapsed": true
   },
   "outputs": [],
   "source": [
    "val userClusterModel = KMeans.train(userVectors, numClusters, numIterations, numRuns)"
   ]
  },
  {
   "cell_type": "code",
   "execution_count": 12,
   "metadata": {
    "collapsed": false
   },
   "outputs": [
    {
     "name": "stdout",
     "output_type": "stream",
     "text": [
      "1\n"
     ]
    }
   ],
   "source": [
    "val movie1 = movieVectors.first\n",
    "val movieCluster = movieClusterModel.predict(movie1)\n",
    "println(movieCluster)"
   ]
  },
  {
   "cell_type": "code",
   "execution_count": 13,
   "metadata": {
    "collapsed": false
   },
   "outputs": [
    {
     "name": "stdout",
     "output_type": "stream",
     "text": [
      "1,1,1,1,1,0,4,1,2,2\n"
     ]
    }
   ],
   "source": [
    "val predictions = movieClusterModel.predict(movieVectors)\n",
    "println(predictions.take(10).mkString(\",\"))"
   ]
  },
  {
   "cell_type": "code",
   "execution_count": 14,
   "metadata": {
    "collapsed": true
   },
   "outputs": [],
   "source": [
    "import breeze.linalg._\n",
    "import breeze.numerics.pow\n",
    "\n",
    "def computeDistance(v1: DenseVector[Double], v2: DenseVector[Double]) = pow(v1 - v2, 2).sum"
   ]
  },
  {
   "cell_type": "code",
   "execution_count": 15,
   "metadata": {
    "collapsed": true
   },
   "outputs": [],
   "source": [
    "val titlesWithFactors = titlesAndGenres.join(movieFactors)\n",
    "val moviesAssigned = titlesWithFactors.map { case (id, ((title, genres), vector)) =>\n",
    "    val pred = movieClusterModel.predict(vector)\n",
    "    val clusterCentre = movieClusterModel.clusterCenters(pred)\n",
    "    val dist = computeDistance(DenseVector(clusterCentre.toArray), DenseVector(vector.toArray))\n",
    "    (id, title, genres.mkString(\" \"), pred, dist)\n",
    "}\n",
    "val clusterAssignments = moviesAssigned.groupBy{ case (id, title, genres, cluster, dist) => cluster }.collectAsMap"
   ]
  },
  {
   "cell_type": "code",
   "execution_count": 17,
   "metadata": {
    "collapsed": false
   },
   "outputs": [
    {
     "name": "stdout",
     "output_type": "stream",
     "text": [
      "Cluster 0:\n",
      "(All Over Me (1997),Drama,0.14804395282062405)\n",
      "(Land and Freedom (Tierra y libertad) (1995),War,0.29204716029790245)\n",
      "(Eighth Day, The (1996),Drama,0.29204716029790245)\n",
      "(Dadetown (1995),Documentary,0.29204716029790245)\n",
      "(Big One, The (1997),Comedy Documentary,0.29204716029790245)\n",
      "(� k�ldum klaka (Cold Fever) (1994),Comedy Drama,0.29204716029790245)\n",
      "(Girls Town (1996),Drama,0.29204716029790245)\n",
      "(Silence of the Palace, The (Saimt el Qusur) (1994),Drama,0.29204716029790245)\n",
      "(Normal Life (1996),Crime Drama,0.29204716029790245)\n",
      "(Two Friends (1986) ,Drama,0.29204716029790245)\n",
      "(Hana-bi (1997),Comedy Crime Drama,0.29204716029790245)\n",
      "(Niagara, Niagara (1997),Drama,0.3046557942270118)\n",
      "(Etz Hadomim Tafus (Under the Domin Tree) (1994),Drama,0.3046557942270118)\n",
      "(All Things Fair (1996),Drama,0.3058774395384473)\n",
      "(Foreign Student (1994),Drama,0.3148823855314407)\n",
      "(Dream Man (1995),Thriller,0.3173035728772602)\n",
      "(Angela (1995),Drama,0.3437517241732923)\n",
      "(Collectionneuse, La (1967),Drama,0.3769697574552491)\n",
      "(Intimate Relations (1996),Comedy,0.3861129663356197)\n",
      "(Lover's Knot (1996),Comedy,0.38666762808749866)\n",
      "======\n",
      "\n",
      "Cluster 1:\n",
      "(Last Time I Saw Paris, The (1954),Drama,0.17935850800755873)\n",
      "(Witness (1985),Drama Romance Thriller,0.19335525112877258)\n",
      "(King of the Hill (1993),Drama,0.27169219136497447)\n",
      "(Substance of Fire, The (1996),Drama,0.3130459935499843)\n",
      "(Nelly & Monsieur Arnaud (1995),Drama,0.3148824071844736)\n",
      "(Mamma Roma (1962),Drama,0.34961661088263446)\n",
      "(Cosi (1996),Comedy,0.3514761489556345)\n",
      "(Scream of Stone (Schrei aus Stein) (1991),Drama,0.3604168624044466)\n",
      "(Gate of Heavenly Peace, The (1995),Documentary,0.3741308647334563)\n",
      "(Angel and the Badman (1947),Western,0.3869900984128265)\n",
      "(Beans of Egypt, Maine, The (1994),Drama,0.39358625954954496)\n",
      "(Object of My Affection, The (1998),Comedy Romance,0.4303943842475462)\n",
      "(They Made Me a Criminal (1939),Crime Drama,0.4520741833521176)\n",
      "(Spellbound (1945),Mystery Romance Thriller,0.4560864560132603)\n",
      "(Third Man, The (1949),Mystery Thriller,0.45611665656721423)\n",
      "(Farewell to Arms, A (1932),Romance War,0.45674283460847537)\n",
      "(Wings of Courage (1995),Adventure Romance,0.45960772614967066)\n",
      "(Spirits of the Dead (Tre passi nel delirio) (1968),Horror,0.4658595785142345)\n",
      "(Ed's Next Move (1996),Comedy,0.4726550521054953)\n",
      "(Quiz Show (1994),Drama,0.47591725052605266)\n",
      "======\n",
      "\n",
      "Cluster 2:\n",
      "(Moonlight and Valentino (1995),Drama Romance,0.40985563327056246)\n",
      "(Johns (1996),Drama,0.4518459369063959)\n",
      "(For Love or Money (1993),Comedy,0.4763386088877262)\n",
      "(Blue Chips (1994),Drama,0.4982444938603066)\n",
      "(Air Up There, The (1994),Comedy,0.509788030361298)\n",
      "(Stag (1997),Action Thriller,0.5344765188243641)\n",
      "(Ill Gotten Gains (1997),Drama,0.5348376861401705)\n",
      "(Pagemaster, The (1994),Action Adventure Animation Children's Fantasy,0.5455674841500073)\n",
      "(Cliffhanger (1993),Action Adventure Crime,0.5463149889330836)\n",
      "(Fausto (1993),Comedy,0.5465105825460146)\n",
      "(Cops and Robbersons (1994),Comedy,0.6168929811279282)\n",
      "(Robocop 3 (1993),Sci-Fi Thriller,0.630935744207443)\n",
      "(New Jersey Drive (1995),Crime Drama,0.6448902286095712)\n",
      "(Life with Mikey (1993),Comedy,0.6566744919238695)\n",
      "(It Takes Two (1995),Comedy,0.6693513440256071)\n",
      "(Santa Clause, The (1994),Children's Comedy,0.6860725026801812)\n",
      "(Chasers (1994),Comedy,0.6993739421545855)\n",
      "(Cool Runnings (1993),Comedy,0.7086075649405941)\n",
      "(Getting Even with Dad (1994),Comedy,0.7207408175035417)\n",
      "(Tokyo Fist (1995),Action Drama,0.73098852099493)\n",
      "======\n",
      "\n",
      "Cluster 3:\n",
      "(Amityville 1992: It's About Time (1992),Horror,0.06224282834869263)\n",
      "(Amityville: A New Generation (1993),Horror,0.06224282834869263)\n",
      "(Amityville: Dollhouse (1996),Horror,0.06560176095655312)\n",
      "(Gordy (1995),Comedy,0.07263075290363347)\n",
      "(Venice/Venice (1992),Drama,0.08254918846968398)\n",
      "(Babyfever (1994),Comedy Drama,0.08758299609091429)\n",
      "(Somebody to Love (1994),Drama,0.09000284098979078)\n",
      "(Boys in Venice (1996),Drama,0.09000284098979078)\n",
      "(Machine, The (1994),Comedy Horror,0.09088091698581094)\n",
      "(Beyond Bedlam (1993),Drama Horror,0.09516304818693523)\n",
      "(Falling in Love Again (1980),Comedy,0.09768552789230805)\n",
      "(Mighty, The (1998),Drama,0.10558523644768092)\n",
      "(Police Story 4: Project S (Chao ji ji hua) (1993),Action,0.110598175965732)\n",
      "(New Age, The (1994),Drama,0.11471750304628958)\n",
      "(Getting Away With Murder (1996),Comedy,0.11710633235007951)\n",
      "(King of New York (1990),Action Crime,0.12035490925081019)\n",
      "(Homage (1995),Drama,0.12568419174355436)\n",
      "(Crude Oasis, The (1995),Romance,0.12568419174355436)\n",
      "(Bird of Prey (1996),Action,0.12568419174355436)\n",
      "(Shadow of Angels (Schatten der Engel) (1976),Drama,0.12568419174355436)\n",
      "======\n",
      "\n",
      "Cluster 4:\n",
      "(Prefontaine (1997),Drama,0.31973162204649036)\n",
      "(Outlaw, The (1943),Western,0.3440796295355074)\n",
      "(Wedding Gift, The (1994),Drama,0.3491375188777843)\n",
      "(Apollo 13 (1995),Action Drama Thriller,0.3575485820647759)\n",
      "(Mr. Wonderful (1993),Comedy Romance,0.36603634207658714)\n",
      "(Wife, The (1995),Comedy Drama,0.39549128022723906)\n",
      "(Commandments (1997),Romance,0.40525249597535057)\n",
      "(Abyss, The (1989),Action Adventure Sci-Fi Thriller,0.44435227878802724)\n",
      "(Dave (1993),Comedy Romance,0.4632616921896669)\n",
      "(Target (1995),Action Drama,0.47113702481518943)\n",
      "(Sword in the Stone, The (1963),Animation Children's,0.47708427760060196)\n",
      "(Aladdin (1992),Animation Children's Comedy Musical,0.48016175624987717)\n",
      "(Outbreak (1995),Action Drama Thriller,0.49045767992935857)\n",
      "(Princess Caraboo (1994),Drama,0.49243936213806616)\n",
      "(City of Angels (1998),Romance,0.5024385747602811)\n",
      "(Mr. Jones (1993),Drama Romance,0.511417678021902)\n",
      "(Courage Under Fire (1996),Drama War,0.5160080372116859)\n",
      "(Indiana Jones and the Last Crusade (1989),Action Adventure,0.519010365752246)\n",
      "(Maverick (1994),Action Comedy Western,0.5266678819048589)\n",
      "(In the Line of Fire (1993),Action Thriller,0.5272430403342522)\n",
      "======\n",
      "\n"
     ]
    }
   ],
   "source": [
    "for((k, v) <- clusterAssignments.toSeq.sortBy(_._1)){\n",
    "    println(s\"Cluster $k:\")\n",
    "    val m = v.toSeq.sortBy(_._5)\n",
    "    println(m.take(20).map{ case (_, title, genres, _, d) =>\n",
    "        (title, genres, d)}.mkString(\"\\n\"))\n",
    "    println(\"======\\n\")\n",
    "}"
   ]
  },
  {
   "cell_type": "code",
   "execution_count": 19,
   "metadata": {
    "collapsed": false
   },
   "outputs": [
    {
     "name": "stdout",
     "output_type": "stream",
     "text": [
      "WCSS for movies: 2274.276237774483\n",
      "WCSS for users: 1482.1828109816408\n"
     ]
    }
   ],
   "source": [
    "//Evaluation\n",
    "val movieCost = movieClusterModel.computeCost(movieVectors)\n",
    "val userCost = userClusterModel.computeCost(userVectors)\n",
    "println(\"WCSS for movies: \" + movieCost)\n",
    "println(\"WCSS for users: \" + userCost)"
   ]
  },
  {
   "cell_type": "code",
   "execution_count": 21,
   "metadata": {
    "collapsed": false
   },
   "outputs": [
    {
     "name": "stdout",
     "output_type": "stream",
     "text": [
      "Movie clustering cross-validation:\n",
      "WCSS for K=2 id 897.28\n",
      "WCSS for K=3 id 892.05\n",
      "WCSS for K=4 id 880.34\n",
      "WCSS for K=5 id 877.58\n",
      "WCSS for K=10 id 878.58\n",
      "WCSS for K=20 id 883.24\n"
     ]
    }
   ],
   "source": [
    "//Finding K through Cross-Validation\n",
    "\n",
    "val trainTestSplitMovies = movieVectors.randomSplit(Array(0.6, 0.4), 123)\n",
    "val trainMovies = trainTestSplitMovies(0)\n",
    "val testMovies = trainTestSplitMovies(1)\n",
    "val costMovies = Seq(2, 3, 4, 5, 10, 20).map{ k =>\n",
    "    (k, KMeans.train(trainMovies, numIterations, k, numRuns).computeCost(testMovies))\n",
    "}\n",
    "println(\"Movie clustering cross-validation:\")\n",
    "costMovies.foreach{ case (k, cost) => println(f\"WCSS for K=$k id $cost%2.2f\")}"
   ]
  },
  {
   "cell_type": "code",
   "execution_count": 22,
   "metadata": {
    "collapsed": false
   },
   "outputs": [
    {
     "name": "stdout",
     "output_type": "stream",
     "text": [
      "User clustering cross-validation:\n",
      "WCSS for K=2 id 571.19\n",
      "WCSS for K=3 id 569.72\n",
      "WCSS for K=4 id 570.33\n",
      "WCSS for K=5 id 564.48\n",
      "WCSS for K=10 id 565.75\n",
      "WCSS for K=20 id 560.95\n"
     ]
    }
   ],
   "source": [
    "val trainTestSplitUsers = userVectors.randomSplit(Array(0.6, 0.4), 123)\n",
    "val trainUsers = trainTestSplitUsers(0)\n",
    "val testUsers = trainTestSplitUsers(1)\n",
    "\n",
    "val costUsers = Seq(2, 3, 4, 5, 10, 20).map { k => (k, KMeans.train(trainUsers, numIterations, k, numRuns).computeCost(testUsers))}\n",
    "println(\"User clustering cross-validation:\")\n",
    "costUsers.foreach{ case (k, cost) => println(f\"WCSS for K=$k id $cost%2.2f\")}"
   ]
  },
  {
   "cell_type": "code",
   "execution_count": null,
   "metadata": {
    "collapsed": true
   },
   "outputs": [],
   "source": []
  }
 ],
 "metadata": {
  "kernelspec": {
   "display_name": "Apache Toree - Scala",
   "language": "scala",
   "name": "apache_toree_scala"
  },
  "language_info": {
   "name": "scala",
   "version": "2.10.4"
  }
 },
 "nbformat": 4,
 "nbformat_minor": 1
}
