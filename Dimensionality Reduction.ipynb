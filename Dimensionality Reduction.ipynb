{
 "cells": [
  {
   "cell_type": "code",
   "execution_count": 1,
   "metadata": {
    "collapsed": false
   },
   "outputs": [],
   "source": [
    "val path = \"lfw/*\"\n",
    "val rdd = sc.wholeTextFiles(path)\n",
    "val first = rdd.first"
   ]
  },
  {
   "cell_type": "code",
   "execution_count": 2,
   "metadata": {
    "collapsed": false
   },
   "outputs": [
    {
     "name": "stdout",
     "output_type": "stream",
     "text": [
      "/Users/omar/Documents/Projects/Scala/MLSpark/lfw/Aaron_Eckhart/Aaron_Eckhart_0001.jpg\n"
     ]
    }
   ],
   "source": [
    "val files = rdd.map { case (fileName, content) =>\n",
    "    fileName.replace(\"file:\", \"\")\n",
    "}\n",
    "println(files.first)"
   ]
  },
  {
   "cell_type": "code",
   "execution_count": 3,
   "metadata": {
    "collapsed": false
   },
   "outputs": [
    {
     "name": "stdout",
     "output_type": "stream",
     "text": [
      "1054\n"
     ]
    }
   ],
   "source": [
    "println(files.count)"
   ]
  },
  {
   "cell_type": "code",
   "execution_count": 4,
   "metadata": {
    "collapsed": false
   },
   "outputs": [],
   "source": [
    "import java.awt.image.BufferedImage\n",
    "import javax.imageio.ImageIO\n",
    "import java.io.File\n",
    "\n",
    "def loadImageFromFile(path: String): BufferedImage = {\n",
    "    ImageIO.read(new File(path))\n",
    "}\n",
    "\n",
    "val aeImage = loadImageFromFile(files.first)"
   ]
  },
  {
   "cell_type": "code",
   "execution_count": 5,
   "metadata": {
    "collapsed": true
   },
   "outputs": [],
   "source": [
    "def processImage(image: BufferedImage, width: Int, height: Int): BufferedImage = {\n",
    "    val bwImage = new BufferedImage(width, height, BufferedImage.TYPE_BYTE_GRAY)\n",
    "    val g = bwImage.getGraphics()\n",
    "    g.drawImage(image, 0, 0, width, height, null)\n",
    "    g.dispose()\n",
    "    bwImage\n",
    "}\n",
    "\n",
    "val grayImage = processImage(aeImage, 100, 100)"
   ]
  },
  {
   "cell_type": "code",
   "execution_count": 6,
   "metadata": {
    "collapsed": false,
    "scrolled": true
   },
   "outputs": [
    {
     "data": {
      "text/plain": [
       "true"
      ]
     },
     "execution_count": 6,
     "metadata": {},
     "output_type": "execute_result"
    }
   ],
   "source": [
    "ImageIO.write(grayImage, \"jpg\", new File(\"tmp/aeGray.jpg\"))"
   ]
  },
  {
   "cell_type": "code",
   "execution_count": 7,
   "metadata": {
    "collapsed": false,
    "scrolled": true
   },
   "outputs": [
    {
     "name": "stdout",
     "output_type": "stream",
     "text": [
      "1.0,1.0,1.0,1.0,1.0,1.0,2.0,1.0,1.0,1.0, ...\n",
      "247.0,173.0,159.0,144.0,139.0,155.0,32.0,7.0,4.0,5.0, ...\n",
      "253.0,254.0,253.0,253.0,253.0,253.0,253.0,253.0,253.0,253.0, ...\n",
      "242.0,242.0,246.0,239.0,238.0,239.0,225.0,165.0,140.0,167.0, ...\n",
      "47.0,221.0,205.0,46.0,41.0,154.0,127.0,214.0,232.0,232.0, ...\n",
      "0.0,0.0,0.0,0.0,0.0,0.0,0.0,0.0,0.0,0.0, ...\n",
      "75.0,76.0,72.0,72.0,72.0,74.0,71.0,78.0,54.0,26.0, ...\n",
      "25.0,27.0,24.0,22.0,26.0,27.0,19.0,16.0,22.0,25.0, ...\n",
      "240.0,240.0,240.0,240.0,240.0,240.0,240.0,240.0,240.0,240.0, ...\n",
      "0.0,0.0,0.0,0.0,0.0,0.0,0.0,0.0,0.0,0.0, ...\n"
     ]
    }
   ],
   "source": [
    "def getPixelsFromImage(image: BufferedImage): Array[Double] = {\n",
    "    val width = image.getWidth\n",
    "    val height = image.getHeight\n",
    "    val pixels = Array.ofDim[Double](width*height)\n",
    "    image.getData.getPixels(0, 0, width, height, pixels)\n",
    "}\n",
    "\n",
    "def extractPixels(path: String, width: Int, height: Int): Array[Double] = {\n",
    "    val raw = loadImageFromFile(path)\n",
    "    val processed = processImage(raw, width, height)\n",
    "    getPixelsFromImage(processed)\n",
    "}\n",
    "\n",
    "val pixels = files.map(f => extractPixels(f, 50, 50))\n",
    "println(pixels.take(10).map(_.take(10).mkString(\"\", \",\", \", ...\")).mkString(\"\\n\"))"
   ]
  },
  {
   "cell_type": "code",
   "execution_count": 8,
   "metadata": {
    "collapsed": false
   },
   "outputs": [
    {
     "data": {
      "text/plain": [
       "image-vectors MapPartitionsRDD[5] at map at <console>:40"
      ]
     },
     "execution_count": 8,
     "metadata": {},
     "output_type": "execute_result"
    }
   ],
   "source": [
    "import org.apache.spark.mllib.linalg.Vectors\n",
    "val vectors = pixels.map(p => Vectors.dense(p))\n",
    "vectors.setName(\"image-vectors\")\n",
    "vectors.cache"
   ]
  },
  {
   "cell_type": "code",
   "execution_count": 9,
   "metadata": {
    "collapsed": true
   },
   "outputs": [],
   "source": [
    "import org.apache.spark.mllib.linalg.Matrix\n",
    "import org.apache.spark.mllib.linalg.distributed.RowMatrix\n",
    "import org.apache.spark.mllib.feature.StandardScaler\n",
    "val scaler = new StandardScaler(withMean = true, withStd = false).fit(vectors)"
   ]
  },
  {
   "cell_type": "code",
   "execution_count": 10,
   "metadata": {
    "collapsed": true
   },
   "outputs": [],
   "source": [
    "val scaledVectors = vectors.map(v => scaler.transform(v))"
   ]
  },
  {
   "cell_type": "code",
   "execution_count": 11,
   "metadata": {
    "collapsed": false
   },
   "outputs": [],
   "source": [
    "//Running PCA on the LFW DataSet\n",
    "val matrix = new RowMatrix(scaledVectors)\n",
    "val K = 10\n",
    "val pc = matrix.computePrincipalComponents(K)"
   ]
  },
  {
   "cell_type": "code",
   "execution_count": 12,
   "metadata": {
    "collapsed": false
   },
   "outputs": [
    {
     "name": "stdout",
     "output_type": "stream",
     "text": [
      "(2500,10)\n"
     ]
    }
   ],
   "source": [
    "val rows = pc.numRows\n",
    "val cols = pc.numCols\n",
    "println(rows, cols)"
   ]
  },
  {
   "cell_type": "code",
   "execution_count": 13,
   "metadata": {
    "collapsed": true
   },
   "outputs": [],
   "source": [
    "import breeze.linalg.DenseMatrix\n",
    "val pcBreeze = new DenseMatrix(rows, cols, pc.toArray)\n",
    "\n",
    "import breeze.linalg.csvwrite\n",
    "csvwrite(new File(\"tmp/pc.csv\"), pcBreeze)"
   ]
  },
  {
   "cell_type": "code",
   "execution_count": 14,
   "metadata": {
    "collapsed": false
   },
   "outputs": [
    {
     "name": "stdout",
     "output_type": "stream",
     "text": [
      "(1054,10)\n"
     ]
    }
   ],
   "source": [
    "val projected = matrix.multiply(pc)\n",
    "println(projected.numRows, projected.numCols)"
   ]
  },
  {
   "cell_type": "code",
   "execution_count": 15,
   "metadata": {
    "collapsed": false
   },
   "outputs": [
    {
     "name": "stdout",
     "output_type": "stream",
     "text": [
      "[2656.255334446328,1331.4316152623849,443.77171439925996,-352.5378024086936,52.35190158301246,377.3800577741128,487.0249575522312,-469.5189260655325,80.88622666722512,-84.82988295536593]\n",
      "[177.0310856502517,663.9809715438986,261.50327924203305,-708.5431250876696,467.0380132620281,181.4509192089409,-37.15151425523848,635.0116960435249,882.0389729322873,-534.4893725108707]\n",
      "[-1058.983438535667,390.9754848782779,1508.454706207631,363.79206833776055,275.1957888077916,-623.0196254444063,537.4147515744895,-218.67299199041472,-231.55887927232297,-99.98392390187095]\n",
      "[-4685.773699057371,255.26635771944402,-153.10119543377468,-24.569787433435064,522.6588196148455,-375.9264880075217,-539.8743970690424,-470.0706533730587,-67.54765928695977,51.92673828087255]\n",
      "[-2762.7905683587305,622.6539180572763,-405.00678943894866,-462.90978295573234,866.4534195252717,-919.4904224431655,-31.69129561997938,-782.0657727943528,516.2915128509082,237.11383873779545]\n"
     ]
    }
   ],
   "source": [
    "println(projected.rows.take(5).mkString(\"\\n\"))"
   ]
  },
  {
   "cell_type": "code",
   "execution_count": 16,
   "metadata": {
    "collapsed": false
   },
   "outputs": [
    {
     "name": "stdout",
     "output_type": "stream",
     "text": [
      "U dimension: (1054, 10)\n",
      "S dimension: (10, )\n",
      "V dimension: (2500, 10)\n"
     ]
    }
   ],
   "source": [
    "val svd = matrix.computeSVD(10, computeU = true)\n",
    "println(s\"U dimension: (${svd.U.numRows}, ${svd.U.numCols})\")\n",
    "println(s\"S dimension: (${svd.s.size}, )\")\n",
    "println(s\"V dimension: (${svd.V.numRows}, ${svd.V.numCols})\")"
   ]
  },
  {
   "cell_type": "code",
   "execution_count": 17,
   "metadata": {
    "collapsed": true
   },
   "outputs": [],
   "source": [
    "def approxEqual(array1: Array[Double], array2: Array[Double], tolerance: Double = 1e-6): Boolean = {\n",
    "    //Note we ignore sign of the principal component / isngular vactor elements\n",
    "    val bools = array1.zip(array2).map{ case (v1, v2) => if (math.abs(math.abs(v1) - math.abs(v2)) > 1e-6) false else true}\n",
    "    bools.fold(true)(_&_)\n",
    "}"
   ]
  },
  {
   "cell_type": "code",
   "execution_count": 18,
   "metadata": {
    "collapsed": false
   },
   "outputs": [
    {
     "name": "stdout",
     "output_type": "stream",
     "text": [
      "true\n"
     ]
    }
   ],
   "source": [
    "println(approxEqual(Array(1.0, 2.0, 3.0), Array(1.0, 2.0, 3.0)))"
   ]
  },
  {
   "cell_type": "code",
   "execution_count": 19,
   "metadata": {
    "collapsed": false
   },
   "outputs": [
    {
     "name": "stdout",
     "output_type": "stream",
     "text": [
      "false\n"
     ]
    }
   ],
   "source": [
    "println(approxEqual(Array(1.0, 2.0, 3.0), Array(3.0, 2.0, 1.0)))"
   ]
  },
  {
   "cell_type": "code",
   "execution_count": 20,
   "metadata": {
    "collapsed": false
   },
   "outputs": [
    {
     "name": "stdout",
     "output_type": "stream",
     "text": [
      "true\n"
     ]
    }
   ],
   "source": [
    "println(approxEqual(svd.V.toArray, pc.toArray))"
   ]
  },
  {
   "cell_type": "code",
   "execution_count": 21,
   "metadata": {
    "collapsed": false
   },
   "outputs": [
    {
     "data": {
      "text/plain": [
       "1054"
      ]
     },
     "execution_count": 21,
     "metadata": {},
     "output_type": "execute_result"
    }
   ],
   "source": [
    "val breezeS = breeze.linalg.DenseVector(svd.s.toArray)\n",
    "val projectedSVD = svd.U.rows.map{ v =>\n",
    "    val breezeV = breeze.linalg.DenseVector(v.toArray)\n",
    "    val multV = breezeV :* breezeS\n",
    "    Vectors.dense(multV.data)\n",
    "}\n",
    "projected.rows.zip(projectedSVD).map{ case (v1, v2) => approxEqual(v1.toArray, v2.toArray)}.filter(b => true).count"
   ]
  },
  {
   "cell_type": "code",
   "execution_count": 22,
   "metadata": {
    "collapsed": false
   },
   "outputs": [
    {
     "name": "stdout",
     "output_type": "stream",
     "text": [
      "[54091.009971103565]\n",
      "[54091.009971103565,33757.70286798242]\n",
      "[54091.009971103565,33757.702867982414,24541.193694775917]\n",
      "[54091.00997110355,33757.70286798243,24541.19369477594,23309.584188883004]\n",
      "[54091.00997110355,33757.702867982414,24541.19369477596,23309.58418888302,21803.09841158358]\n"
     ]
    }
   ],
   "source": [
    "//Evaluating Dimensionality Reduction\n",
    "val sValues = (1 to 5).map{ i => matrix.computeSVD(i, computeU = false).s }\n",
    "sValues.foreach(println)"
   ]
  },
  {
   "cell_type": "code",
   "execution_count": 23,
   "metadata": {
    "collapsed": true
   },
   "outputs": [],
   "source": [
    "val svd300 = matrix.computeSVD(300, computeU = false)\n",
    "val sMatrix = new DenseMatrix(1, 300, svd300.s.toArray)\n",
    "csvwrite(new File(\"tmp/s.csv\"), sMatrix)"
   ]
  },
  {
   "cell_type": "code",
   "execution_count": null,
   "metadata": {
    "collapsed": true
   },
   "outputs": [],
   "source": []
  }
 ],
 "metadata": {
  "kernelspec": {
   "display_name": "Apache Toree - Scala",
   "language": "scala",
   "name": "apache_toree_scala"
  },
  "language_info": {
   "name": "scala",
   "version": "2.10.4"
  }
 },
 "nbformat": 4,
 "nbformat_minor": 1
}
