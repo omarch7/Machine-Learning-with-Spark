{
 "cells": [
  {
   "cell_type": "code",
   "execution_count": 2,
   "metadata": {
    "collapsed": false
   },
   "outputs": [],
   "source": [
    "val data = sc.textFile(\"UserPurchaseHistory.csv\").map(line => line.split(\",\")).map(purchaseRecord => (purchaseRecord(0), purchaseRecord(1), purchaseRecord(2)))"
   ]
  },
  {
   "cell_type": "code",
   "execution_count": 3,
   "metadata": {
    "collapsed": true
   },
   "outputs": [],
   "source": [
    "val numPurchases = data.count()"
   ]
  },
  {
   "cell_type": "code",
   "execution_count": 4,
   "metadata": {
    "collapsed": false
   },
   "outputs": [],
   "source": [
    "val uniqueUsers = data.map{case (user, product, price) => user}.distinct().count()"
   ]
  },
  {
   "cell_type": "code",
   "execution_count": 5,
   "metadata": {
    "collapsed": true
   },
   "outputs": [],
   "source": [
    "val totalRevenue = data.map{ case (user, product, price) => price.toDouble}.sum()"
   ]
  },
  {
   "cell_type": "code",
   "execution_count": 6,
   "metadata": {
    "collapsed": true
   },
   "outputs": [],
   "source": [
    "val productsByPopularity = data.map{ case (user, product, price) => (product, 1)}.reduceByKey(_+_).collect().sortBy(-_._2)\n",
    "val mostPopular = productsByPopularity(0)"
   ]
  },
  {
   "cell_type": "code",
   "execution_count": 7,
   "metadata": {
    "collapsed": false
   },
   "outputs": [
    {
     "name": "stdout",
     "output_type": "stream",
     "text": [
      "Total purchases: 5\n",
      "Unique users: 4\n",
      "Total revenue: 39.91\n",
      "Most popular product: iPhone Cover with 2 purchases\n"
     ]
    }
   ],
   "source": [
    "println(\"Total purchases: \" + numPurchases)\n",
    "println(\"Unique users: \" + uniqueUsers)\n",
    "println(\"Total revenue: \" + totalRevenue)\n",
    "println(\"Most popular product: %s with %d purchases\".format(mostPopular._1, mostPopular._2))"
   ]
  },
  {
   "cell_type": "code",
   "execution_count": null,
   "metadata": {
    "collapsed": true
   },
   "outputs": [],
   "source": []
  }
 ],
 "metadata": {
  "kernelspec": {
   "display_name": "Apache Toree - Scala",
   "language": "scala",
   "name": "apache_toree_scala"
  },
  "language_info": {
   "name": "scala",
   "version": "2.10.4"
  }
 },
 "nbformat": 4,
 "nbformat_minor": 1
}
